{
 "cells": [
  {
   "cell_type": "code",
   "execution_count": 11,
   "id": "7d67ed00-c38c-4cb2-b8f7-dfa0a3b1d308",
   "metadata": {},
   "outputs": [],
   "source": [
    "import cv2\n",
    "import os"
   ]
  },
  {
   "cell_type": "code",
   "execution_count": 12,
   "id": "d8e1bfc1-1842-46c7-8ed5-17e0e8bf369d",
   "metadata": {},
   "outputs": [],
   "source": [
    "video=cv2.VideoCapture(0)\n",
    "\n",
    "facedetect=cv2.CascadeClassifier('haarcascade_frontalface_default.xml')\n",
    "\n",
    "count=0"
   ]
  },
  {
   "cell_type": "code",
   "execution_count": null,
   "id": "608313c6-5c4a-4965-a1ec-86aff4c3fd5f",
   "metadata": {},
   "outputs": [],
   "source": [
    "nameID=str(input(\"Enter Your Name: \")).lower()\n",
    "\n",
    "path='images/'+nameID"
   ]
  },
  {
   "cell_type": "code",
   "execution_count": null,
   "id": "53d9f614-2ab5-4485-89d7-db1c91a9ee07",
   "metadata": {},
   "outputs": [],
   "source": [
    "isExist = os.path.exists(path)\n",
    "\n",
    "if isExist:\n",
    "\tprint(\"Name Already Taken\")\n",
    "\tnameID=str(input(\"Enter Your Name Again: \"))\n",
    "else:\n",
    "\tos.makedirs(path)"
   ]
  },
  {
   "cell_type": "code",
   "execution_count": null,
   "id": "4a2e5155-8a8f-42bb-92a2-529a3181f40b",
   "metadata": {},
   "outputs": [],
   "source": [
    "while True:\n",
    "\tret,frame=video.read()\n",
    "\tfaces=facedetect.detectMultiScale(frame,1.3, 5)\n",
    "\tfor x,y,w,h in faces:\n",
    "\t\tcount=count+1\n",
    "\t\tname=os.path.join('images',nameID, str(count) + '.jpg')\n",
    "\t\tprint(\"Creating Images.........\" +name)\n",
    "\t\tcv2.imwrite(name, frame[y:y+w,x:x+h])\n",
    "\t\tcv2.rectangle(frame, (x,y), (x+h, y+w), (0,255,0), 3)\n",
    "\tcv2.imshow(\"WindowFrame\", frame)\n",
    "\tcv2.waitKey(1)\n",
    "\tif count>500:\n",
    "\t\tbreak\n",
    "video.release()\n",
    "cv2.destroyAllWindows()"
   ]
  },
  {
   "cell_type": "code",
   "execution_count": null,
   "id": "d2dfc427-4bb1-4064-acf4-e0d7891416de",
   "metadata": {},
   "outputs": [],
   "source": []
  }
 ],
 "metadata": {
  "kernelspec": {
   "display_name": "Python 3 (ipykernel)",
   "language": "python",
   "name": "python3"
  },
  "language_info": {
   "codemirror_mode": {
    "name": "ipython",
    "version": 3
   },
   "file_extension": ".py",
   "mimetype": "text/x-python",
   "name": "python",
   "nbconvert_exporter": "python",
   "pygments_lexer": "ipython3",
   "version": "3.9.18"
  }
 },
 "nbformat": 4,
 "nbformat_minor": 5
}
